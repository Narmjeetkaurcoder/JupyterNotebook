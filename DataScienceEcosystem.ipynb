{
 "cells": [
  {
   "cell_type": "markdown",
   "id": "718050b4-2059-493d-94e5-08bd1137e1c0",
   "metadata": {},
   "source": [
    "# Data Science Tools and Ecosystem"
   ]
  },
  {
   "cell_type": "markdown",
   "id": "bb472f63-30de-4e18-8650-3b7cfb3f06be",
   "metadata": {},
   "source": [
    "In this notebook, Data Science Tools and Ecosystem are summarized."
   ]
  },
  {
   "cell_type": "markdown",
   "id": "dfa61000-6008-4c28-90b4-089b68dfcc4b",
   "metadata": {},
   "source": [
    "Some of the popular languages the Data scientists use are:\n",
    "1. Python.\n",
    "2. R.\n",
    "3. Java.\n",
    "4. SQL.\n",
    "5. C++. etc...;"
   ]
  },
  {
   "cell_type": "markdown",
   "id": "eef7a4eb-75d7-451b-b820-5ec8a47aec23",
   "metadata": {},
   "source": [
    "Some of the commonly used libraries used by Data Scientists include:\n",
    "1. NumPy.\n",
    "2. Pandas.\n",
    "3. Matplotlib.\n",
    "4. Seabron.\n",
    "5. SciPy.\n",
    "6. TEnsorFlow. etc...;"
   ]
  },
  {
   "cell_type": "markdown",
   "id": "1f9ca338-f55e-4b02-80e1-adfc5f49e369",
   "metadata": {},
   "source": [
    "|Data Science Tools|\n",
    "|---|\n",
    "|SAS|\n",
    "|Apache Hadoop|\n",
    "|TensorFlow|"
   ]
  },
  {
   "cell_type": "markdown",
   "id": "4551c1ae-8984-4618-815b-074058d10c02",
   "metadata": {},
   "source": [
    "### Blow are a few examples of evaluating arithmetic expressions in Python."
   ]
  },
  {
   "cell_type": "code",
   "execution_count": 1,
   "id": "1019957a-cf9d-4ee7-a278-9fb474d5ab2f",
   "metadata": {},
   "outputs": [
    {
     "data": {
      "text/plain": [
       "17"
      ]
     },
     "execution_count": 1,
     "metadata": {},
     "output_type": "execute_result"
    }
   ],
   "source": [
    "#this is a common arithmetic example to multiply and add integers\n",
    "(3*4)+5"
   ]
  },
  {
   "cell_type": "code",
   "execution_count": 2,
   "id": "2ed4e781-7cf2-479e-bf07-9040130f9336",
   "metadata": {},
   "outputs": [
    {
     "data": {
      "text/plain": [
       "3.3333333333333335"
      ]
     },
     "execution_count": 2,
     "metadata": {},
     "output_type": "execute_result"
    }
   ],
   "source": [
    "#This will convert 200 minutes to hours by diving by 60\n",
    "200/60"
   ]
  },
  {
   "cell_type": "markdown",
   "id": "a676e246-5aac-4aa8-97c7-08782eeb437f",
   "metadata": {},
   "source": [
    "___Objective___\n",
    "* List popular languages for Data Science\n",
    "* List popular libraries for Data science \n",
    "* List of Well known Data Science Tools\n",
    "* How to Provide comments in the cell"
   ]
  },
  {
   "cell_type": "markdown",
   "id": "619733d0-0d67-4506-9a86-e05b51d86657",
   "metadata": {},
   "source": [
    "## Author\n",
    "Narmjeet kaur"
   ]
  }
 ],
 "metadata": {
  "kernelspec": {
   "display_name": "Python 3 (ipykernel)",
   "language": "python",
   "name": "python3"
  },
  "language_info": {
   "codemirror_mode": {
    "name": "ipython",
    "version": 3
   },
   "file_extension": ".py",
   "mimetype": "text/x-python",
   "name": "python",
   "nbconvert_exporter": "python",
   "pygments_lexer": "ipython3",
   "version": "3.11.7"
  }
 },
 "nbformat": 4,
 "nbformat_minor": 5
}
